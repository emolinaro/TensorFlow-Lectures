{
  "nbformat": 4,
  "nbformat_minor": 0,
  "metadata": {
    "colab": {
      "name": "lectures-08a.ipynb",
      "version": "0.3.2",
      "provenance": [],
      "collapsed_sections": []
    },
    "kernelspec": {
      "display_name": "Python 3",
      "language": "python",
      "name": "python3"
    }
  },
  "cells": [
    {
      "metadata": {
        "id": "LYOiPG9kpKF1",
        "colab_type": "text"
      },
      "cell_type": "markdown",
      "source": [
        "# Multi-GPU Training Example\n",
        "\n",
        "Train a convolutional neural network on multiple GPU with TensorFlow."
      ]
    },
    {
      "metadata": {
        "ExecuteTime": {
          "end_time": "2017-08-27T10:16:46.508273Z",
          "start_time": "2017-08-27T10:16:46.506062Z"
        },
        "id": "5VftwVbdpKF3",
        "colab_type": "text"
      },
      "cell_type": "markdown",
      "source": [
        "## Import modules"
      ]
    },
    {
      "metadata": {
        "id": "pdQlofB1pKF6",
        "colab_type": "code",
        "outputId": "5b3646c4-735b-4a1a-8f24-7e35e551a15d",
        "colab": {
          "base_uri": "https://localhost:8080/",
          "height": 51
        }
      },
      "cell_type": "code",
      "source": [
        "import sys\n",
        "print(sys.version)"
      ],
      "execution_count": 0,
      "outputs": [
        {
          "output_type": "stream",
          "text": [
            "3.6.7 (default, Oct 22 2018, 11:32:17) \n",
            "[GCC 8.2.0]\n"
          ],
          "name": "stdout"
        }
      ]
    },
    {
      "metadata": {
        "id": "dpUYpCMcpKGD",
        "colab_type": "code",
        "colab": {}
      },
      "cell_type": "code",
      "source": [
        "#!pip install --user --upgrade pip"
      ],
      "execution_count": 0,
      "outputs": []
    },
    {
      "metadata": {
        "id": "HMlftI3ipKGI",
        "colab_type": "code",
        "colab": {}
      },
      "cell_type": "code",
      "source": [
        "#!pip install --user keras"
      ],
      "execution_count": 0,
      "outputs": []
    },
    {
      "metadata": {
        "id": "MmdEqZmFpKGM",
        "colab_type": "code",
        "colab": {}
      },
      "cell_type": "code",
      "source": [
        "#!pip install --user ipywidgets"
      ],
      "execution_count": 0,
      "outputs": []
    },
    {
      "metadata": {
        "id": "zTTE30gTpKGQ",
        "colab_type": "code",
        "colab": {}
      },
      "cell_type": "code",
      "source": [
        "#!pip install --user requests"
      ],
      "execution_count": 0,
      "outputs": []
    },
    {
      "metadata": {
        "id": "jrneczz9pKGU",
        "colab_type": "code",
        "colab": {}
      },
      "cell_type": "code",
      "source": [
        "#!pip install --user tqdm"
      ],
      "execution_count": 0,
      "outputs": []
    },
    {
      "metadata": {
        "id": "y3d-3dSYpKGX",
        "colab_type": "code",
        "outputId": "40ce4bde-8950-419f-c074-4f3978c54486",
        "colab": {
          "base_uri": "https://localhost:8080/",
          "height": 51
        }
      },
      "cell_type": "code",
      "source": [
        "import os\n",
        "import time\n",
        "import tensorflow as tf\n",
        "from tensorflow.keras import layers as L\n",
        "import numpy as np\n",
        "import keras\n",
        "from keras import backend as K\n",
        "from keras.datasets import mnist # dataset\n",
        "from keras.models import Sequential\n",
        "from keras.layers import Conv2D, MaxPooling2D, Flatten, Dense, Activation, Dropout\n",
        "from keras.layers.advanced_activations import LeakyReLU\n",
        "\n",
        "import matplotlib.pyplot as plt\n",
        "print(tf.__version__)\n",
        "print(keras.__version__)\n",
        "import ipywidgets\n",
        "\n",
        "#import utils\n",
        "#from utils import reset_tf_session\n",
        "#from utils import download_file\n",
        "#from utils import ModelSaveCallback"
      ],
      "execution_count": 0,
      "outputs": [
        {
          "output_type": "stream",
          "text": [
            "1.12.0\n",
            "2.2.4\n"
          ],
          "name": "stdout"
        }
      ]
    },
    {
      "metadata": {
        "id": "mT_d7m_jpKGg",
        "colab_type": "code",
        "outputId": "480d6e47-9e4e-45b1-969c-0034a81ef858",
        "colab": {
          "base_uri": "https://localhost:8080/",
          "height": 51
        }
      },
      "cell_type": "code",
      "source": [
        "(x_train, y_train), (x_test, y_test) = mnist.load_data(path=\"/tmp/mnist\")"
      ],
      "execution_count": 0,
      "outputs": [
        {
          "output_type": "stream",
          "text": [
            "Downloading data from https://s3.amazonaws.com/img-datasets/mnist.npz\n",
            "11493376/11490434 [==============================] - 0s 0us/step\n"
          ],
          "name": "stdout"
        }
      ]
    },
    {
      "metadata": {
        "id": "uM5th4YdpKGj",
        "colab_type": "text"
      },
      "cell_type": "markdown",
      "source": [
        "The dataset is saved in the specified path."
      ]
    },
    {
      "metadata": {
        "id": "68vAHfeDpKGl",
        "colab_type": "code",
        "outputId": "e600671e-14fd-4c60-e5a4-c94f6b2fbb2c",
        "colab": {
          "base_uri": "https://localhost:8080/",
          "height": 51
        }
      },
      "cell_type": "code",
      "source": [
        "print(\"Train samples:\", x_train.shape, y_train.shape)\n",
        "print(\"Test samples:\", x_test.shape, y_test.shape)"
      ],
      "execution_count": 0,
      "outputs": [
        {
          "output_type": "stream",
          "text": [
            "Train samples: (60000, 28, 28) (60000,)\n",
            "Test samples: (10000, 28, 28) (10000,)\n"
          ],
          "name": "stdout"
        }
      ]
    },
    {
      "metadata": {
        "id": "XYOAq_ThpKGp",
        "colab_type": "code",
        "colab": {}
      },
      "cell_type": "code",
      "source": [
        "NUM_DIGITS = 10\n",
        "mnist_digits = [\"zero\", \"one\", \"two\", \"three\", \"four\", \"five\", \"six\", \"seven\", \"eight\", \"nine\"]"
      ],
      "execution_count": 0,
      "outputs": []
    },
    {
      "metadata": {
        "id": "TmBB_pAypKGt",
        "colab_type": "code",
        "outputId": "4bf40560-c38f-4228-abcd-11b37b78e07f",
        "colab": {
          "base_uri": "https://localhost:8080/",
          "height": 586
        }
      },
      "cell_type": "code",
      "source": [
        "# show random images from train\n",
        "cols = 8\n",
        "rows = 4\n",
        "fig = plt.figure(figsize=(2 * cols - 1, 2.5 * rows - 1))\n",
        "for i in range(cols):\n",
        "    for j in range(rows):\n",
        "        random_index = np.random.randint(0, len(y_train))\n",
        "        ax = fig.add_subplot(rows, cols, i * rows + j + 1)\n",
        "        ax.grid('False')\n",
        "        ax.axis('off')\n",
        "        ax.imshow(x_train[random_index, :])\n",
        "        ax.set_title(mnist_digits[y_train[random_index]])\n",
        "plt.show()"
      ],
      "execution_count": 0,
      "outputs": [
        {
          "output_type": "stream",
          "text": [
            "/usr/local/lib/python3.6/dist-packages/matplotlib/cbook/__init__.py:424: MatplotlibDeprecationWarning: \n",
            "Passing one of 'on', 'true', 'off', 'false' as a boolean is deprecated; use an actual boolean (True/False) instead.\n",
            "  warn_deprecated(\"2.2\", \"Passing one of 'on', 'true', 'off', 'false' as a \"\n"
          ],
          "name": "stderr"
        },
        {
          "output_type": "display_data",
          "data": {
            "image/png": "[encoded data removed]",
            "text/plain": [
              "<Figure size 1080x648 with 32 Axes>"
            ]
          },
          "metadata": {
            "tags": []
          }
        }
      ]
    },
    {
      "metadata": {
        "id": "jSN16Y66pKG0",
        "colab_type": "text"
      },
      "cell_type": "markdown",
      "source": [
        "## Prepare data"
      ]
    },
    {
      "metadata": {
        "id": "fxwO4wz9pKG2",
        "colab_type": "text"
      },
      "cell_type": "markdown",
      "source": [
        "We need to normalize inputs like this: $$x_{norm} = \\frac{x}{255} - 0.5$$\n",
        "\n",
        "We need to convert class labels to one-hot encoded vectors. Use __keras.utils.to_categorical__."
      ]
    },
    {
      "metadata": {
        "id": "w7-0SVtHpKG4",
        "colab_type": "code",
        "colab": {}
      },
      "cell_type": "code",
      "source": [
        "# normalize inputs\n",
        "x_train2 = x_train/255-0.5 \n",
        "x_test2 = x_test/255-0.5 \n",
        "\n",
        "y_train2 = tf.keras.utils.to_categorical(y_train, num_classes=NUM_DIGITS) \n",
        "y_test2 = tf.keras.utils.to_categorical(y_test, num_classes=NUM_DIGITS) "
      ],
      "execution_count": 0,
      "outputs": []
    },
    {
      "metadata": {
        "id": "I0PPIau9pKG6",
        "colab_type": "text"
      },
      "cell_type": "markdown",
      "source": [
        "## Define CNN architecture"
      ]
    },
    {
      "metadata": {
        "id": "wYVE1_EIpKG9",
        "colab_type": "text"
      },
      "cell_type": "markdown",
      "source": [
        "We need to add one channel to the train images in order to set them as viable inputs for the CNN.\n",
        "\n",
        "We need to define a model which takes __(None, 28, 28, 1)__ input and predicts __(None, 10)__ output with probabilities for all digits. __None__ in shapes stands for batch dimension."
      ]
    },
    {
      "metadata": {
        "id": "wHzNX9ivpKG-",
        "colab_type": "code",
        "colab": {}
      },
      "cell_type": "code",
      "source": [
        "x_train2 = x_train2.reshape(len(x_train), 28,28,1)\n",
        "x_test2 = x_test2.reshape(len(x_test),28,28,1)"
      ],
      "execution_count": 0,
      "outputs": []
    },
    {
      "metadata": {
        "id": "YrkPf3RIpKHH",
        "colab_type": "code",
        "colab": {}
      },
      "cell_type": "code",
      "source": [
        "def make_model():\n",
        "    \"\"\"\n",
        "    Model architecture.\n",
        "    \"\"\"\n",
        "    \n",
        "    model = Sequential()\n",
        "    model.add(Conv2D(64,kernel_size=(5, 5),padding='same',input_shape=(28, 28, 1),activation='relu'))\n",
        "    model.add(Conv2D(256,kernel_size=(5, 5),padding='same',activation='relu'))\n",
        "    model.add(MaxPooling2D(pool_size=(2, 2)))\n",
        "    model.add(Dropout(0.25))\n",
        "    model.add(Conv2D(256,kernel_size=(3, 3),padding='same',activation='relu'))\n",
        "    model.add(Conv2D(512,kernel_size=(3, 3),padding='same',activation='relu'))\n",
        "    model.add(MaxPooling2D(pool_size=(2, 2)))\n",
        "    model.add(Dropout(0.25))\n",
        "    model.add(Flatten())\n",
        "    model.add(Dense(2048,activation='relu'))\n",
        "    model.add(Dropout(0.5))\n",
        "    model.add(Dense(1024,activation='relu'))\n",
        "    model.add(Dropout(0.5))\n",
        "    model.add(Dense(NUM_DIGITS))  \n",
        "    model.add(Activation(\"softmax\"))\n",
        "    \n",
        "    \n",
        "    return model"
      ],
      "execution_count": 0,
      "outputs": []
    },
    {
      "metadata": {
        "id": "n-5LX9PEpKHL",
        "colab_type": "code",
        "outputId": "ac6a205c-ebc8-4706-a199-dfbfa56c9e93",
        "colab": {
          "base_uri": "https://localhost:8080/",
          "height": 646
        }
      },
      "cell_type": "code",
      "source": [
        "# describe model\n",
        "K.clear_session()  # clear default graph\n",
        "model = make_model()\n",
        "model.summary()"
      ],
      "execution_count": 0,
      "outputs": [
        {
          "output_type": "stream",
          "text": [
            "_________________________________________________________________\n",
            "Layer (type)                 Output Shape              Param #   \n",
            "=================================================================\n",
            "conv2d_1 (Conv2D)            (None, 28, 28, 64)        1664      \n",
            "_________________________________________________________________\n",
            "conv2d_2 (Conv2D)            (None, 28, 28, 256)       409856    \n",
            "_________________________________________________________________\n",
            "max_pooling2d_1 (MaxPooling2 (None, 14, 14, 256)       0         \n",
            "_________________________________________________________________\n",
            "dropout_1 (Dropout)          (None, 14, 14, 256)       0         \n",
            "_________________________________________________________________\n",
            "conv2d_3 (Conv2D)            (None, 14, 14, 256)       590080    \n",
            "_________________________________________________________________\n",
            "conv2d_4 (Conv2D)            (None, 14, 14, 512)       1180160   \n",
            "_________________________________________________________________\n",
            "max_pooling2d_2 (MaxPooling2 (None, 7, 7, 512)         0         \n",
            "_________________________________________________________________\n",
            "dropout_2 (Dropout)          (None, 7, 7, 512)         0         \n",
            "_________________________________________________________________\n",
            "flatten_1 (Flatten)          (None, 25088)             0         \n",
            "_________________________________________________________________\n",
            "dense_1 (Dense)              (None, 2048)              51382272  \n",
            "_________________________________________________________________\n",
            "dropout_3 (Dropout)          (None, 2048)              0         \n",
            "_________________________________________________________________\n",
            "dense_2 (Dense)              (None, 1024)              2098176   \n",
            "_________________________________________________________________\n",
            "dropout_4 (Dropout)          (None, 1024)              0         \n",
            "_________________________________________________________________\n",
            "dense_3 (Dense)              (None, 10)                10250     \n",
            "_________________________________________________________________\n",
            "activation_1 (Activation)    (None, 10)                0         \n",
            "=================================================================\n",
            "Total params: 55,672,458\n",
            "Trainable params: 55,672,458\n",
            "Non-trainable params: 0\n",
            "_________________________________________________________________\n"
          ],
          "name": "stdout"
        }
      ]
    },
    {
      "metadata": {
        "id": "Lmruesa4pKHT",
        "colab_type": "text"
      },
      "cell_type": "markdown",
      "source": [
        "## Train model"
      ]
    },
    {
      "metadata": {
        "id": "_MMQ1yPJpKHV",
        "colab_type": "code",
        "outputId": "28a600b6-49d4-48b1-e653-079d7d7bcd5e",
        "colab": {}
      },
      "cell_type": "code",
      "source": [
        "start = time.time()\n",
        "\n",
        "INIT_LR = 5e-3  # initial learning rate\n",
        "BATCH_SIZE = 1024\n",
        "EPOCHS = 5\n",
        "\n",
        "K.clear_session()  # clear default graph\n",
        "# don't call K.set_learning_phase() !!! (otherwise will enable dropout in train/test simultaneously)\n",
        "model = make_model()  # define our model\n",
        "\n",
        "# prepare model for fitting (loss, optimizer, etc)\n",
        "model.compile(\n",
        "    loss='categorical_crossentropy',  # we train 10-way classification\n",
        "    optimizer=keras.optimizers.adamax(lr=INIT_LR),  # for SGD\n",
        "    metrics=['accuracy']  # report accuracy during training\n",
        ")\n",
        "\n",
        "# scheduler of learning rate (decay with epochs)\n",
        "def lr_scheduler(epoch):\n",
        "    return INIT_LR * 0.9 ** epoch\n",
        "\n",
        "# callback for printing of actual learning rate used by optimizer\n",
        "class LrHistory(keras.callbacks.Callback):\n",
        "    def on_epoch_begin(self, epoch, logs={}):\n",
        "        print(\"Learning rate:\", K.get_value(model.optimizer.lr))\n",
        "\n",
        "# fit model\n",
        "model.fit(\n",
        "    x_train2, y_train2,  # prepared data\n",
        "    batch_size=BATCH_SIZE,\n",
        "    epochs=EPOCHS,\n",
        "    callbacks=[keras.callbacks.LearningRateScheduler(lr_scheduler), LrHistory()],\n",
        "    validation_data=(x_test2, y_test2),\n",
        "    shuffle=True,\n",
        "    verbose=1\n",
        ")\n",
        "\n",
        "end = time.time()\n",
        "print(\"\")\n",
        "print(\"Training time = %d seconds\" %(end - start))"
      ],
      "execution_count": 0,
      "outputs": [
        {
          "output_type": "stream",
          "text": [
            "Train on 60000 samples, validate on 10000 samples\n",
            "Epoch 1/10\n",
            "Learning rate: 0.005\n",
            "60000/60000 [==============================] - 61s 1ms/step - loss: 1.7704 - acc: 0.4731 - val_loss: 0.2164 - val_acc: 0.9309\n",
            "Epoch 2/10\n",
            "Learning rate: 0.0045\n",
            "60000/60000 [==============================] - 60s 1ms/step - loss: 0.1792 - acc: 0.9437 - val_loss: 0.0613 - val_acc: 0.9794\n",
            "Epoch 3/10\n",
            "Learning rate: 0.00405\n",
            "60000/60000 [==============================] - 60s 1ms/step - loss: 0.0921 - acc: 0.9715 - val_loss: 0.0417 - val_acc: 0.9863\n",
            "Epoch 4/10\n",
            "Learning rate: 0.003645\n",
            "60000/60000 [==============================] - 60s 1ms/step - loss: 0.0721 - acc: 0.9778 - val_loss: 0.0312 - val_acc: 0.9895\n",
            "Epoch 5/10\n",
            "Learning rate: 0.0032805\n",
            "60000/60000 [==============================] - 60s 1ms/step - loss: 0.0554 - acc: 0.9824 - val_loss: 0.0272 - val_acc: 0.9909\n",
            "Epoch 6/10\n",
            "Learning rate: 0.00295245\n",
            "60000/60000 [==============================] - 60s 1ms/step - loss: 0.0465 - acc: 0.9860 - val_loss: 0.0246 - val_acc: 0.9920\n",
            "Epoch 7/10\n",
            "Learning rate: 0.002657205\n",
            "60000/60000 [==============================] - 60s 1ms/step - loss: 0.0439 - acc: 0.9865 - val_loss: 0.0209 - val_acc: 0.9932\n",
            "Epoch 8/10\n",
            "Learning rate: 0.0023914846\n",
            "60000/60000 [==============================] - 60s 1ms/step - loss: 0.0381 - acc: 0.9883 - val_loss: 0.0206 - val_acc: 0.9935\n",
            "Epoch 9/10\n",
            "Learning rate: 0.002152336\n",
            "60000/60000 [==============================] - 60s 1ms/step - loss: 0.0345 - acc: 0.9894 - val_loss: 0.0209 - val_acc: 0.9925\n",
            "Epoch 10/10\n",
            "Learning rate: 0.0019371024\n",
            "60000/60000 [==============================] - 60s 1ms/step - loss: 0.0322 - acc: 0.9901 - val_loss: 0.0205 - val_acc: 0.9935\n",
            "\n",
            "Training time = 604 seconds\n"
          ],
          "name": "stdout"
        }
      ]
    },
    {
      "metadata": {
        "id": "fVJmZ6PFpKHe",
        "colab_type": "code",
        "colab": {}
      },
      "cell_type": "code",
      "source": [
        "# save weights to file\n",
        "model.save_weights(\"mnist_weights.h5\")"
      ],
      "execution_count": 0,
      "outputs": []
    },
    {
      "metadata": {
        "id": "FNQ4cU_3pKHh",
        "colab_type": "code",
        "colab": {}
      },
      "cell_type": "code",
      "source": [
        "# load weights from file (can call without model.fit)\n",
        "model.load_weights(\"mnist_weights.h5\")"
      ],
      "execution_count": 0,
      "outputs": []
    },
    {
      "metadata": {
        "id": "xqNqWlAGpKHn",
        "colab_type": "code",
        "outputId": "a83d9ad8-5b63-4f23-b877-a245e8fc2f34",
        "colab": {}
      },
      "cell_type": "code",
      "source": [
        "# make test predictions\n",
        "y_pred_test = model.predict_proba(x_test2)\n",
        "y_pred_test_classes = np.argmax(y_pred_test, axis=1)\n",
        "y_pred_test_max_probas = np.max(y_pred_test, axis=1)\n",
        "\n",
        "# inspect preditions\n",
        "cols = 8\n",
        "rows = 2\n",
        "fig = plt.figure(figsize=(2 * cols - 1, 3 * rows - 1))\n",
        "for i in range(cols):\n",
        "    for j in range(rows):\n",
        "        random_index = np.random.randint(0, len(y_test))\n",
        "        ax = fig.add_subplot(rows, cols, i * rows + j + 1)\n",
        "        ax.grid('off')\n",
        "        ax.axis('off')\n",
        "        ax.imshow(x_test[random_index, :])\n",
        "        pred_label = mnist_digits[y_pred_test_classes[random_index]]\n",
        "        pred_proba = y_pred_test_max_probas[random_index]\n",
        "        true_label = mnist_digits[y_test[random_index]]\n",
        "        ax.set_title(\"pred: {}\\nscore: {:.3}\\ntrue: {}\".format(\n",
        "               pred_label, pred_proba, true_label\n",
        "        ))\n",
        "plt.show()"
      ],
      "execution_count": 0,
      "outputs": [
        {
          "output_type": "stream",
          "text": [
            "/home/molinaro/.local/lib/python3.6/site-packages/matplotlib/cbook/__init__.py:424: MatplotlibDeprecationWarning: \n",
            "Passing one of 'on', 'true', 'off', 'false' as a boolean is deprecated; use an actual boolean (True/False) instead.\n",
            "  warn_deprecated(\"2.2\", \"Passing one of 'on', 'true', 'off', 'false' as a \"\n"
          ],
          "name": "stderr"
        },
        {
          "output_type": "display_data",
          "data": {
            "image/png": "[encoded data removed]",
            "text/plain": [
              "<Figure size 1080x360 with 16 Axes>"
            ]
          },
          "metadata": {
            "tags": []
          }
        }
      ]
    },
    {
      "metadata": {
        "id": "5nOyioyFpKHr",
        "colab_type": "text"
      },
      "cell_type": "markdown",
      "source": [
        "## Create an estimator form the compiled Keras model\n",
        "\n",
        "We convert the model created above to run on a multi-GPU environment using the TensorFlow Estimator API.\n",
        "Estimators build the graph, so there is no explicit session here.\n",
        "\n",
        "We build esimators using the tf.keras.estimator.model_to_estimator method.\n",
        "\n",
        "We use the tf.contrib.distribute.MirroredStrategy paradigm to do in-graph replication of synchronous training: \n",
        "Each worker GPU has a copy of the network and gets a subset of the data on which it computes the local gradients and then waits for all the workers to finish in a synchronous manner. Then the workers communicate their local gradients to each other via a Ring All-reduce operation which is typically optimized to reduce network bandwidth and increase through-put. Once all the gradients have arrived each worker averages them and updates its parameter and the next step begins. This is ideal in situations where you have multiple GPUs on a single node connected via some high-speed interconnect.\n",
        "\n",
        "\n",
        "=====\n",
        "\n",
        "Currently, tf.contrib.distribute.MirroredStrategy is the only supported distribution strategy. MirroredStrategy does in-graph replication with synchronous training using all-reduce on a single machine. To use DistributionStrategy with Keras, convert the tf.keras.Model to a tf.estimator.Estimator with tf.keras.estimator.model_to_estimator, then train the estimator."
      ]
    },
    {
      "metadata": {
        "id": "5kAc9uHvsDgr",
        "colab_type": "code",
        "colab": {}
      },
      "cell_type": "code",
      "source": [
        "inputs = tf.keras.Input(shape=(28,28,1))  # Returns a placeholder\n",
        "x = tf.keras.layers.Conv2D(filters=32, \n",
        "                           kernel_size=(3, 3), \n",
        "                           activation=tf.nn.relu)(inputs)\n",
        "x = tf.keras.layers.MaxPooling2D(pool_size=(2, 2), strides=2)(x)\n",
        "x = tf.keras.layers.Conv2D(filters=64, \n",
        "                           kernel_size=(3, 3), \n",
        "                           activation=tf.nn.relu)(x)\n",
        "x = tf.keras.layers.MaxPooling2D(pool_size=(2, 2), strides=2)(x)\n",
        "x = tf.keras.layers.Conv2D(filters=64, \n",
        "                           kernel_size=(3, 3), \n",
        "                           activation=tf.nn.relu)(x)\n",
        "x = tf.keras.layers.Flatten()(x)\n",
        "x = tf.keras.layers.Dense(64, activation=tf.nn.relu)(x)\n",
        "predictions = tf.keras.layers.Dense(NUM_DIGITS, activation=tf.nn.softmax)(x)\n",
        "\n",
        "\n",
        "model = tf.keras.Model(inputs=inputs, outputs=predictions)"
      ],
      "execution_count": 0,
      "outputs": []
    },
    {
      "metadata": {
        "id": "st3yFNULrs4Q",
        "colab_type": "code",
        "colab": {}
      },
      "cell_type": "code",
      "source": [
        "def make_model():\n",
        "    \"\"\"\n",
        "    Model architecture.\n",
        "    \"\"\"\n",
        "    \n",
        "    model = tf.keras.Sequential([\n",
        "        L.Conv2D(64,kernel_size=(5, 5),padding='same',input_shape=(28, 28, 1),activation='relu'),\n",
        "        L.Conv2D(256,kernel_size=(5, 5),padding='same',activation='relu'),\n",
        "        L.MaxPooling2D(pool_size=(2, 2)),\n",
        "        L.Dropout(0.25),\n",
        "        L.Conv2D(256,kernel_size=(3, 3),padding='same',activation='relu'),\n",
        "        L.Conv2D(512,kernel_size=(3, 3),padding='same',activation='relu'),\n",
        "        L.MaxPooling2D(pool_size=(2, 2)),\n",
        "        L.Dropout(0.25),\n",
        "        L.Flatten(),\n",
        "        L.Dense(2048,activation='relu'),\n",
        "        L.Dropout(0.5),\n",
        "        L.Dense(1024,activation='relu'),\n",
        "        L.Dropout(0.5),\n",
        "        L.Dense(NUM_DIGITS, activation=\"softmax\")  \n",
        "    ])\n",
        "     \n",
        "    return model"
      ],
      "execution_count": 0,
      "outputs": []
    },
    {
      "metadata": {
        "id": "6-xG6CJ2sXx2",
        "colab_type": "code",
        "outputId": "9a7103c7-5453-48b1-d769-27f8a22f7d10",
        "colab": {
          "base_uri": "https://localhost:8080/",
          "height": 612
        }
      },
      "cell_type": "code",
      "source": [
        "model = make_model()\n",
        "model.summary()"
      ],
      "execution_count": 0,
      "outputs": [
        {
          "output_type": "stream",
          "text": [
            "_________________________________________________________________\n",
            "Layer (type)                 Output Shape              Param #   \n",
            "=================================================================\n",
            "conv2d (Conv2D)              (None, 28, 28, 64)        1664      \n",
            "_________________________________________________________________\n",
            "conv2d_1 (Conv2D)            (None, 28, 28, 256)       409856    \n",
            "_________________________________________________________________\n",
            "max_pooling2d (MaxPooling2D) (None, 14, 14, 256)       0         \n",
            "_________________________________________________________________\n",
            "dropout (Dropout)            (None, 14, 14, 256)       0         \n",
            "_________________________________________________________________\n",
            "conv2d_2 (Conv2D)            (None, 14, 14, 256)       590080    \n",
            "_________________________________________________________________\n",
            "conv2d_3 (Conv2D)            (None, 14, 14, 512)       1180160   \n",
            "_________________________________________________________________\n",
            "max_pooling2d_1 (MaxPooling2 (None, 7, 7, 512)         0         \n",
            "_________________________________________________________________\n",
            "dropout_1 (Dropout)          (None, 7, 7, 512)         0         \n",
            "_________________________________________________________________\n",
            "flatten (Flatten)            (None, 25088)             0         \n",
            "_________________________________________________________________\n",
            "dense (Dense)                (None, 2048)              51382272  \n",
            "_________________________________________________________________\n",
            "dropout_2 (Dropout)          (None, 2048)              0         \n",
            "_________________________________________________________________\n",
            "dense_1 (Dense)              (None, 1024)              2098176   \n",
            "_________________________________________________________________\n",
            "dropout_3 (Dropout)          (None, 1024)              0         \n",
            "_________________________________________________________________\n",
            "dense_2 (Dense)              (None, 10)                10250     \n",
            "=================================================================\n",
            "Total params: 55,672,458\n",
            "Trainable params: 55,672,458\n",
            "Non-trainable params: 0\n",
            "_________________________________________________________________\n"
          ],
          "name": "stdout"
        }
      ]
    },
    {
      "metadata": {
        "id": "Vn8M9__gpKHy",
        "colab_type": "code",
        "outputId": "c82524ef-a61a-4b04-f1a9-2e8d2c307214",
        "colab": {
          "base_uri": "https://localhost:8080/",
          "height": 224
        }
      },
      "cell_type": "code",
      "source": [
        "INIT_LR = 5e-3  # initial learning rate\n",
        "BATCH_SIZE = 1024\n",
        "EPOCHS = 5\n",
        "\n",
        "model.compile(\n",
        "    loss='categorical_crossentropy',  # we train 10-way classification\n",
        "    optimizer=tf.train.AdamOptimizer(learning_rate=INIT_LR),  # for SGD\n",
        "    metrics=['accuracy']  # report accuracy during training\n",
        ")\n",
        "\n",
        "NUM_GPUS = 1\n",
        "strategy = tf.contrib.distribute.MirroredStrategy(num_gpus=NUM_GPUS)\n",
        "config = tf.estimator.RunConfig(train_distribute=strategy)\n",
        "estimator = tf.keras.estimator.model_to_estimator(model, config=config, model_dir='/tmp/model_dir')"
      ],
      "execution_count": 0,
      "outputs": [
        {
          "output_type": "stream",
          "text": [
            "INFO:tensorflow:Initializing RunConfig with distribution strategies.\n",
            "INFO:tensorflow:Not using Distribute Coordinator.\n",
            "WARNING:tensorflow:Using temporary folder as model directory: /tmp/tmp4greis17\n",
            "INFO:tensorflow:Using the Keras model provided.\n",
            "INFO:tensorflow:Using config: {'_model_dir': '/tmp/tmp4greis17', '_tf_random_seed': None, '_save_summary_steps': 100, '_save_checkpoints_steps': None, '_save_checkpoints_secs': 600, '_session_config': allow_soft_placement: true\n",
            "graph_options {\n",
            "  rewrite_options {\n",
            "    meta_optimizer_iterations: ONE\n",
            "  }\n",
            "}\n",
            ", '_keep_checkpoint_max': 5, '_keep_checkpoint_every_n_hours': 10000, '_log_step_count_steps': 100, '_train_distribute': <tensorflow.contrib.distribute.python.mirrored_strategy.MirroredStrategy object at 0x7f1dbfc382b0>, '_device_fn': None, '_protocol': None, '_eval_distribute': None, '_experimental_distribute': None, '_service': None, '_cluster_spec': <tensorflow.python.training.server_lib.ClusterSpec object at 0x7f1dbfa611d0>, '_task_type': 'worker', '_task_id': 0, '_global_id_in_cluster': 0, '_master': '', '_evaluation_master': '', '_is_chief': True, '_num_ps_replicas': 0, '_num_worker_replicas': 1, '_distribute_coordinator_mode': None}\n"
          ],
          "name": "stdout"
        }
      ]
    },
    {
      "metadata": {
        "id": "aEQBUdeOpKH1",
        "colab_type": "text"
      },
      "cell_type": "markdown",
      "source": [
        "We need to define a data importing function to pipe data into our Estimator.\n",
        "\n",
        "====\n",
        "\n",
        "Define an input pipeline. The input_fn returns a tf.data.Dataset object used to distribute the data across multiple devices—with each device processing a slice of the input batch.\n",
        "\n"
      ]
    },
    {
      "metadata": {
        "id": "sbIkjyi_pKH2",
        "colab_type": "code",
        "colab": {}
      },
      "cell_type": "code",
      "source": [
        "# ETL process\n",
        "\n",
        "def input_fn(images, labels, epochs, batch_size):\n",
        "    # Convert the inputs to a Dataset. (E)\n",
        "    ds = tf.data.Dataset.from_tensor_slices((images, labels))\n",
        "    # Shuffle, repeat, and batch the examples. (T)\n",
        "    SHUFFLE_SIZE = 5000\n",
        "    ds = ds.shuffle(SHUFFLE_SIZE).repeat(epochs).batch(batch_size)\n",
        "    ds = ds.prefetch(2)\n",
        "    # Return the dataset. (L)\n",
        "    return ds"
      ],
      "execution_count": 0,
      "outputs": []
    },
    {
      "metadata": {
        "id": "Z4NPPW38pKH4",
        "colab_type": "text"
      },
      "cell_type": "markdown",
      "source": [
        "### Train the Estimator"
      ]
    },
    {
      "metadata": {
        "id": "2zXgheQppKH7",
        "colab_type": "code",
        "colab": {}
      },
      "cell_type": "code",
      "source": [
        "class TimeHistory(tf.train.SessionRunHook):\n",
        "    def begin(self):\n",
        "        self.times = []\n",
        "    def before_run(self, run_context):\n",
        "        self.iter_time_start = time.time()\n",
        "    def after_run(self, run_context, run_values):\n",
        "        self.times.append(time.time() - self.iter_time_start)"
      ],
      "execution_count": 0,
      "outputs": []
    },
    {
      "metadata": {
        "id": "x7bV816opKH-",
        "colab_type": "code",
        "outputId": "3b6050fd-d4e7-4248-9e8a-419495c06dd0",
        "colab": {
          "base_uri": "https://localhost:8080/",
          "height": 547
        }
      },
      "cell_type": "code",
      "source": [
        "time_hist = TimeHistory()\n",
        "BATCH_SIZE = 512\n",
        "EPOCHS = 5\n",
        "estimator.train(lambda:input_fn(x_train2,\n",
        "                                y_train2,\n",
        "                                epochs=EPOCHS,\n",
        "                                batch_size=BATCH_SIZE),\n",
        "                hooks=[time_hist])"
      ],
      "execution_count": 0,
      "outputs": [
        {
          "output_type": "stream",
          "text": [
            "INFO:tensorflow:Device is available but not used by distribute strategy: /device:CPU:0\n",
            "INFO:tensorflow:Device is available but not used by distribute strategy: /device:XLA_CPU:0\n",
            "WARNING:tensorflow:Not all devices in distribute strategy are visible by TensorFlow sessions.\n",
            "INFO:tensorflow:Calling model_fn.\n",
            "INFO:tensorflow:Done calling model_fn.\n",
            "INFO:tensorflow:Warm-starting with WarmStartSettings: WarmStartSettings(ckpt_to_initialize_from='/tmp/tmp4greis17/keras/keras_model.ckpt', vars_to_warm_start='.*', var_name_to_vocab_info={}, var_name_to_prev_var_name={})\n",
            "INFO:tensorflow:Warm-starting from: ('/tmp/tmp4greis17/keras/keras_model.ckpt',)\n",
            "INFO:tensorflow:Warm-starting variable: conv2d/kernel; prev_var_name: Unchanged\n",
            "INFO:tensorflow:Warm-starting variable: conv2d/bias; prev_var_name: Unchanged\n",
            "INFO:tensorflow:Warm-starting variable: conv2d_1/kernel; prev_var_name: Unchanged\n",
            "INFO:tensorflow:Warm-starting variable: conv2d_1/bias; prev_var_name: Unchanged\n",
            "INFO:tensorflow:Warm-starting variable: conv2d_2/kernel; prev_var_name: Unchanged\n",
            "INFO:tensorflow:Warm-starting variable: conv2d_2/bias; prev_var_name: Unchanged\n",
            "INFO:tensorflow:Warm-starting variable: conv2d_3/kernel; prev_var_name: Unchanged\n",
            "INFO:tensorflow:Warm-starting variable: conv2d_3/bias; prev_var_name: Unchanged\n",
            "INFO:tensorflow:Warm-starting variable: dense/kernel; prev_var_name: Unchanged\n",
            "INFO:tensorflow:Warm-starting variable: dense/bias; prev_var_name: Unchanged\n",
            "INFO:tensorflow:Warm-starting variable: dense_1/kernel; prev_var_name: Unchanged\n",
            "INFO:tensorflow:Warm-starting variable: dense_1/bias; prev_var_name: Unchanged\n",
            "INFO:tensorflow:Warm-starting variable: dense_2/kernel; prev_var_name: Unchanged\n",
            "INFO:tensorflow:Warm-starting variable: dense_2/bias; prev_var_name: Unchanged\n",
            "INFO:tensorflow:Create CheckpointSaverHook.\n",
            "INFO:tensorflow:Graph was finalized.\n",
            "INFO:tensorflow:Running local_init_op.\n",
            "INFO:tensorflow:Done running local_init_op.\n",
            "INFO:tensorflow:Saving checkpoints for 0 into /tmp/tmp4greis17/model.ckpt.\n",
            "INFO:tensorflow:loss = 2.3048217, step = 0\n",
            "INFO:tensorflow:Saving checkpoints for 15 into /tmp/tmp4greis17/model.ckpt.\n",
            "INFO:tensorflow:Saving checkpoints for 30 into /tmp/tmp4greis17/model.ckpt.\n",
            "INFO:tensorflow:Saving checkpoints for 45 into /tmp/tmp4greis17/model.ckpt.\n"
          ],
          "name": "stdout"
        }
      ]
    },
    {
      "metadata": {
        "id": "_n43KECApKIH",
        "colab_type": "text"
      },
      "cell_type": "markdown",
      "source": [
        "### Performance"
      ]
    },
    {
      "metadata": {
        "id": "6OPqtHumpKII",
        "colab_type": "code",
        "colab": {}
      },
      "cell_type": "code",
      "source": [
        "total_time = sum(time_hist.times)\n",
        "print(f\"total time with {NUM_GPUS} GPU(s): {total_time} seconds\")\n",
        "avg_time_per_batch = np.mean(time_hist.times)\n",
        "print(f\"{BATCH_SIZE*NUM_GPUS/avg_time_per_batch} images/second with\n",
        "        {NUM_GPUS} GPU(s)\")\n"
      ],
      "execution_count": 0,
      "outputs": []
    },
    {
      "metadata": {
        "id": "Mk8L_kZLpKIN",
        "colab_type": "text"
      },
      "cell_type": "markdown",
      "source": [
        "### Evaluate the Estimator"
      ]
    },
    {
      "metadata": {
        "id": "LA3p_XVPpKIO",
        "colab_type": "code",
        "colab": {}
      },
      "cell_type": "code",
      "source": [
        "estimator.evaluate(lambda:input_fn(test_images, \n",
        "                                   test_labels,\n",
        "                                   epochs=1,\n",
        "                                   batch_size=BATCH_SIZE))"
      ],
      "execution_count": 0,
      "outputs": []
    },
    {
      "metadata": {
        "id": "4kkkH8dUpKIS",
        "colab_type": "code",
        "colab": {}
      },
      "cell_type": "code",
      "source": [
        ""
      ],
      "execution_count": 0,
      "outputs": []
    },
    {
      "metadata": {
        "id": "XUWb-uESpKIW",
        "colab_type": "code",
        "colab": {}
      },
      "cell_type": "code",
      "source": [
        ""
      ],
      "execution_count": 0,
      "outputs": []
    },
    {
      "metadata": {
        "id": "RFDS6RgGpKIa",
        "colab_type": "code",
        "colab": {}
      },
      "cell_type": "code",
      "source": [
        ""
      ],
      "execution_count": 0,
      "outputs": []
    },
    {
      "metadata": {
        "id": "UWlR3gJ0pKId",
        "colab_type": "code",
        "colab": {}
      },
      "cell_type": "code",
      "source": [
        ""
      ],
      "execution_count": 0,
      "outputs": []
    },
    {
      "metadata": {
        "id": "8s29Pb4BpKIh",
        "colab_type": "code",
        "colab": {}
      },
      "cell_type": "code",
      "source": [
        ""
      ],
      "execution_count": 0,
      "outputs": []
    },
    {
      "metadata": {
        "id": "beJaZQdApKIl",
        "colab_type": "code",
        "colab": {}
      },
      "cell_type": "code",
      "source": [
        ""
      ],
      "execution_count": 0,
      "outputs": []
    }
  ]
}